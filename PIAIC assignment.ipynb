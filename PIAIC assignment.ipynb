{
 "cells": [
  {
   "cell_type": "code",
   "execution_count": null,
   "metadata": {},
   "outputs": [],
   "source": [
    "Name: Muhammad Zohair\n",
    "Roll Number: AIC040861\n",
    "Teacher Name: Dr. Noman Islam\n",
    "Campus:Saylani head office \n",
    "Timing:Sunday (9AM to 12PM)"
   ]
  },
  {
   "cell_type": "code",
   "execution_count": null,
   "metadata": {},
   "outputs": [],
   "source": [
    "# 1 Calculate Area of Circle\n",
    "\n",
    "## write a program calculate area of circle accepting radius of circle from user "
   ]
  },
  {
   "cell_type": "code",
   "execution_count": 1,
   "metadata": {},
   "outputs": [
    {
     "name": "stdout",
     "output_type": "stream",
     "text": [
      "Enter the Radius of a Circle: 1.2\n",
      "area of a circle is 1.2 is 4.5257142857\n"
     ]
    }
   ],
   "source": [
    "radius = float(input(\"Enter the Radius of a Circle: \"))\n",
    "print(\"area of a circle is\" , radius , \"is\" , round(((22/7)*radius**2),10))"
   ]
  },
  {
   "cell_type": "code",
   "execution_count": null,
   "metadata": {},
   "outputs": [],
   "source": [
    "# 2 Either number is positive or negative\n",
    "\n",
    "## write a program to check if number is positive or negative"
   ]
  },
  {
   "cell_type": "code",
   "execution_count": 2,
   "metadata": {},
   "outputs": [
    {
     "name": "stdout",
     "output_type": "stream",
     "text": [
      "enter number: 12\n",
      "postive number entered\n"
     ]
    }
   ],
   "source": [
    "number = int(input(\"enter number: \"))\n",
    "\n",
    "if number < 0:\n",
    "    print(\"negative number entered\")\n",
    "elif number > 0:\n",
    "    print(\"postive number entered\")\n",
    "else:\n",
    "    print(\"zero entered\")"
   ]
  },
  {
   "cell_type": "code",
   "execution_count": null,
   "metadata": {},
   "outputs": [],
   "source": [
    "# 3 Divisibility check of two numbers\n",
    "\n",
    "## write a program to check whether number is completely divisible by other number. Accept two numbers "
   ]
  },
  {
   "cell_type": "code",
   "execution_count": 3,
   "metadata": {},
   "outputs": [
    {
     "name": "stdout",
     "output_type": "stream",
     "text": [
      "enter numerator: 12\n",
      "enter denominator: 3\n",
      "number 12 is completely divisible by 3\n"
     ]
    }
   ],
   "source": [
    "Numerator = int(input(\"enter numerator: \")) \n",
    "Denominator = int(input(\"enter denominator: \"))\n",
    "\n",
    "if (Numerator % Denominator) == 0:\n",
    "    print(\"number\" , Numerator , \"is completely divisible by\" , Denominator) \n",
    "else:\n",
    "    print(\"number\" , Numerator , \"is not completely divisible by\" , Denominator)"
   ]
  },
  {
   "cell_type": "code",
   "execution_count": null,
   "metadata": {},
   "outputs": [],
   "source": [
    "# 4 Calculate volume of a sphere \n",
    "\n",
    "## write a program to calculate volume of a sphere, take radius from user"
   ]
  },
  {
   "cell_type": "code",
   "execution_count": 4,
   "metadata": {},
   "outputs": [
    {
     "name": "stdout",
     "output_type": "stream",
     "text": [
      "Enter radius of sphere12\n",
      "Volume of radius is  7.24\n"
     ]
    }
   ],
   "source": [
    "rad = float(input(\"Enter radius of sphere\"))\n",
    "print (\"Volume of radius is \", round(((1.333)*(22/7)*radius**3),2))"
   ]
  },
  {
   "cell_type": "code",
   "execution_count": null,
   "metadata": {},
   "outputs": [],
   "source": [
    "# 5 Copy string n times\n",
    "\n",
    "## write a python program to get a string which is n copies of string"
   ]
  },
  {
   "cell_type": "code",
   "execution_count": 5,
   "metadata": {},
   "outputs": [
    {
     "name": "stdout",
     "output_type": "stream",
     "text": [
      "Enter a String: Hello world\n",
      "How many times you want to copy it? 12\n",
      "12 copies of Hello world are Hello worldHello worldHello worldHello worldHello worldHello worldHello worldHello worldHello worldHello worldHello worldHello world\n"
     ]
    }
   ],
   "source": [
    "str = input(\"Enter a String: \")\n",
    "n = input(\"How many times you want to copy it? \")\n",
    "print(n , \"copies of\", str , \"are\" , str*int(n))"
   ]
  },
  {
   "cell_type": "code",
   "execution_count": null,
   "metadata": {},
   "outputs": [],
   "source": [
    "# 6 Check if number is even or odd\n",
    "\n",
    "## write a program to check is number is even or odd"
   ]
  },
  {
   "cell_type": "code",
   "execution_count": 6,
   "metadata": {},
   "outputs": [
    {
     "name": "stdout",
     "output_type": "stream",
     "text": [
      "Enter a number13\n",
      "Number is odd\n"
     ]
    }
   ],
   "source": [
    "n = int(input(\"Enter a number: \"))\n",
    "if n%2 == 0:\n",
    "    print(\"Number is Even\")\n",
    "elif n%2 != 0:\n",
    "    print(\"Number is odd\")\n",
    "else:\n",
    "    print(\"Number is zero\")"
   ]
  },
  {
   "cell_type": "code",
   "execution_count": null,
   "metadata": {},
   "outputs": [],
   "source": [
    "# 7 Vowel tester\n",
    "\n",
    "## write a program to find whether the letter is vowelor not"
   ]
  },
  {
   "cell_type": "code",
   "execution_count": 7,
   "metadata": {},
   "outputs": [
    {
     "name": "stdout",
     "output_type": "stream",
     "text": [
      "enter a character: A\n",
      "letter A is vowel\n"
     ]
    }
   ],
   "source": [
    "vow = input(\"enter a character: \")\n",
    "\n",
    "if vow in ('a' , 'e' ,'i' ,'o' , 'u' , \"A\" , \"E\" , \"I\" , \"O\" , \"U\"):\n",
    "    print(\"letter\" , vow , \"is vowel\")\n",
    "else:\n",
    "    print(\"letter\" , vow , \"is not vowel\")"
   ]
  },
  {
   "cell_type": "code",
   "execution_count": null,
   "metadata": {},
   "outputs": [],
   "source": [
    "# 8 Triangle Area \n",
    "\n",
    "## write a program which input base and height of triangle and give area"
   ]
  },
  {
   "cell_type": "code",
   "execution_count": 8,
   "metadata": {},
   "outputs": [
    {
     "name": "stdout",
     "output_type": "stream",
     "text": [
      "enter base of a triangle: 12\n",
      "enter height of a triangle: 4\n",
      "area of a triangle is:  24\n"
     ]
    }
   ],
   "source": [
    "bas = float(input(\"enter base of a triangle: \"))\n",
    "hei = float(input(\"enter height of a triangle: \"))\n",
    "print(\"area of a triangle is: \" , round((1/2)*bas*hei))"
   ]
  },
  {
   "cell_type": "code",
   "execution_count": null,
   "metadata": {},
   "outputs": [],
   "source": [
    "# 9 Calculate Interest\n",
    "\n",
    "## Write a  program to compute the future value of a specified principal amount, rate of interest, and a number of years"
   ]
  },
  {
   "cell_type": "code",
   "execution_count": 10,
   "metadata": {},
   "outputs": [
    {
     "name": "stdout",
     "output_type": "stream",
     "text": [
      "please enter principal amount: 12000\n",
      "please enter rate of interest in %: 0.5\n",
      "enter number of years for investment: 12\n",
      "after 12 years your principal amount 12000 over an interest rate of 0.5 % will be  1556956.1\n"
     ]
    }
   ],
   "source": [
    "amount = int(input(\"please enter principal amount: \"))\n",
    "rate = float(input(\"please enter rate of interest in %: \"))\n",
    "years = int(input(\"enter number of years for investment: \"))\n",
    "print (\"after\", years , \"years your principal amount\" , amount , \"over an interest rate of\" , rate ,\"% will be \" , round((amount*(1+rate)**years),1))"
   ]
  },
  {
   "cell_type": "code",
   "execution_count": null,
   "metadata": {},
   "outputs": [],
   "source": [
    "# 10 Euclidean distance\n",
    "\n",
    "## write a program to compute the distance between the points (x1, y1) and (x2, y2)"
   ]
  },
  {
   "cell_type": "code",
   "execution_count": 11,
   "metadata": {},
   "outputs": [
    {
     "name": "stdout",
     "output_type": "stream",
     "text": [
      "Enter co-ordinate for x1: 12\n",
      "Enter co-ordinate for x2: 13\n",
      "Enter co-ordinate for y1: 14\n",
      "Enter co-ordinate for y2: 15\n",
      "Distance between points ( 12 , 14 ) and ( 13 , 15 ) is 3\n"
     ]
    }
   ],
   "source": [
    "x1 = int(input(\"Enter co-ordinate for x1: \"))\n",
    "x2 = int(input(\"Enter co-ordinate for x2: \"))\n",
    "y1 = int(input(\"Enter co-ordinate for y1: \"))\n",
    "y2 = int(input(\"Enter co-ordinate for y2: \"))\n",
    "\n",
    "res = (((y1-x1)**2) + ((y2-x2)**2))**(1/2)\n",
    "\n",
    "print(\"Distance between points (\", x1 , \",\" , y1 ,\") and (\", x2 , \",\" , y2 ,\") is\" , round(res))"
   ]
  },
  {
   "cell_type": "code",
   "execution_count": null,
   "metadata": {},
   "outputs": [],
   "source": [
    "# 11 Converter (Feet to Centimeter)\n",
    "\n",
    "## Write a  program to convert height in feet to centimetres."
   ]
  },
  {
   "cell_type": "code",
   "execution_count": 14,
   "metadata": {},
   "outputs": [
    {
     "name": "stdout",
     "output_type": "stream",
     "text": [
      "Enter height in feet: 13\n",
      "There are  396.24 cm in 13 feet\n"
     ]
    }
   ],
   "source": [
    "hei = int(input(\"Enter height in feet: \"))\n",
    "\n",
    "print(\"There are \" , hei*30.48 , \"cm in\" , hei , \"feet\")"
   ]
  },
  {
   "cell_type": "code",
   "execution_count": null,
   "metadata": {},
   "outputs": [],
   "source": [
    "# 12 BMI calculator\n",
    "\n",
    "## Write a program to calculate body mass index"
   ]
  },
  {
   "cell_type": "code",
   "execution_count": 15,
   "metadata": {},
   "outputs": [
    {
     "name": "stdout",
     "output_type": "stream",
     "text": [
      "enter height in cm: 128\n",
      "enter weight in kg: 50\n",
      "your bmi is 30.52\n"
     ]
    }
   ],
   "source": [
    "hei = int(input(\"enter height in cm: \"))\n",
    "wei = int(input(\"enter weight in kg: \"))\n",
    "print(\"your bmi is\" , round((wei/(hei*hei/10000)),2))"
   ]
  },
  {
   "cell_type": "code",
   "execution_count": null,
   "metadata": {},
   "outputs": [],
   "source": [
    "# 13 Sum of positive n numbers of integers\n",
    "\n",
    "## Write a program to sum of the first positive n nmbers of integers"
   ]
  },
  {
   "cell_type": "code",
   "execution_count": null,
   "metadata": {},
   "outputs": [],
   "source": [
    "num = int(input(\"enter value of n: \"))\n",
    "sumnum = num\n",
    "num1 = num\n",
    "\n",
    "if num <= 0:\n",
    "    print(\"Not a positive integer\")\n",
    "else:\n",
    "    while num1 > 0:\n",
    "        num1 = num1 - 1\n",
    "        sumnum = sumnum + num1\n",
    "        #print(\"number:\",num,\"sumNumber:\",sumNumber)\n",
    "    print(\"Sum of n positive integers till\" , num , \"is\" , sumnum)"
   ]
  },
  {
   "cell_type": "code",
   "execution_count": null,
   "metadata": {},
   "outputs": [],
   "source": [
    "# 14. Digits Sum of a Number\n",
    "\n",
    "## Write a program to calculate the sum of the digits in an integer"
   ]
  },
  {
   "cell_type": "code",
   "execution_count": null,
   "metadata": {},
   "outputs": [],
   "source": [
    "num = input(\"Enter a number: \")\n",
    "sum = 0\n",
    "counter = 1\n",
    "print(\"sum of\", end=\"\")\n",
    "for i in num:\n",
    "    if len(num) > counter:\n",
    "        sum = sum + int(i)\n",
    "        print(\"\" , i , \"+\" , end=\"\")\n",
    "        counter +=1\n",
    "    else:\n",
    "        sum = sum + int(i)\n",
    "        print(\"\" , i , end=\"\")\n",
    "        counter +=1 \n",
    "print(\" is\",sum)"
   ]
  },
  {
   "cell_type": "code",
   "execution_count": null,
   "metadata": {},
   "outputs": [],
   "source": []
  }
 ],
 "metadata": {
  "kernelspec": {
   "display_name": "Python 3",
   "language": "python",
   "name": "python3"
  },
  "language_info": {
   "codemirror_mode": {
    "name": "ipython",
    "version": 3
   },
   "file_extension": ".py",
   "mimetype": "text/x-python",
   "name": "python",
   "nbconvert_exporter": "python",
   "pygments_lexer": "ipython3",
   "version": "3.7.3"
  }
 },
 "nbformat": 4,
 "nbformat_minor": 2
}
